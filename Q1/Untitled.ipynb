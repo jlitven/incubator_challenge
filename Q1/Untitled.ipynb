{
 "cells": [
  {
   "cell_type": "code",
   "execution_count": null,
   "metadata": {
    "collapsed": false
   },
   "outputs": [],
   "source": [
    "\"\"\"\n",
    "The Data Incubator Challenge\n",
    "Q1\n",
    "Simulate a Knight's running sum on a numeric keypad.\n",
    "We can simulate the knight by defining its allowable states.\n",
    "\"\"\"\n",
    "import random\n",
    "from __future__ import division\n",
    "import numpy as np\n",
    "\n",
    "\"\"\"\n",
    "States are stored as a dictionary, where the key\n",
    "is the current state and the values are lists of \n",
    "possible next states.\n",
    "\"\"\"\n",
    "possible_states = {\n",
    "    0: [4, 6],\n",
    "    1: [8, 6],\n",
    "    2: [7, 9],\n",
    "    3: [4, 8],\n",
    "    4: [0, 3, 9],\n",
    "    5: [],\n",
    "    6: [0, 1, 7],\n",
    "    7: [2, 6],\n",
    "    8: [1, 3],\n",
    "    9: [2, 4]}\n",
    "NUM_SAMPLES = 10000\n",
    "\n",
    "def gen_knight_sim(num_moves, init_state = 0):\n",
    "    \"\"\"Generate a simulation of a knight on a keypad.\"\"\"\n",
    "    state = init_state\n",
    "    running_states = [state]\n",
    "    yield state\n",
    "    for move in range(1, num_moves):\n",
    "        states = possible_states[state]\n",
    "        state = random.choice(states)\n",
    "        running_states.append(state)\n",
    "        yield state\n",
    "\n",
    "def sum_knight_sim(num_moves, mod = None):\n",
    "    \"\"\"Calculate the running sum of a knight simulation.\"\"\"\n",
    "    running_sum = sum(gen_knight_sim(num_moves))\n",
    "    if mod:\n",
    "        return running_sum % mod\n",
    "    return running_sum\n",
    "    \n",
    "def gen_sum_knight_samples(num_samples, num_moves, mod = None):\n",
    "    \"\"\"Generate samples of the knight simulation.\"\"\"\n",
    "    sample_iter = (sum_knight_sim(num_moves, mod) for _ in xrange(num_samples))\n",
    "    samples = np.fromiter(sample_iter, np.float, count=num_samples)\n",
    "    return samples\n",
    "\n",
    "def output_knight_sim_stats(num_moves, num_samples):\n",
    "    \"\"\"Output stats for simulation experiments.\"\"\"\n",
    "    print\n",
    "    print 'Knight Simulation ({} samples)'.format(num_samples)\n",
    "    print '-----------------'\n",
    "    print '# moves = {}'.format(num_moves)\n",
    "    \n",
    "def output_mod_experiment(num_moves, mod, num_samples=NUM_SAMPLES):\n",
    "    \"\"\"Output stats for mod experiments.\"\"\"\n",
    "    samples = gen_sum_knight_samples(num_samples, num_moves, mod)\n",
    "    output_knight_sim_stats(num_moves, num_samples)\n",
    "    print 'Expectation of S mod {}: {}'.format(mod, samples.mean())\n",
    "    print 'Standard deviation of S mod {}: {}'.format(mod, samples.std())\n",
    "    \n",
    "def cond_prob_knight_sim(num_moves, cond_A, cond_B, num_samples):\n",
    "    \"\"\"Calculate the conditional probability P(A|B).\"\"\"\n",
    "    samples = gen_sum_knight_samples(num_samples, num_moves)\n",
    "    # P(A|B) = P(A and B) / P(B)\n",
    "    samples_A_and_B = len([s for s in samples if cond_A(s) and cond_B(s)])\n",
    "    samples_B = len([s for s in samples if cond_B(s)])\n",
    "    return samples_A_and_B / samples_B\n",
    "\n",
    "def output_cond_experiment(num_moves, cond_A_num, cond_B_num, num_samples=NUM_SAMPLES):\n",
    "    \"\"\"Output stats for conditional experiments.\"\"\"\n",
    "    cond_A = lambda S: S % cond_A_num == 0\n",
    "    cond_B = lambda S: S % cond_B_num == 0\n",
    "    cond_prob = cond_prob_knight_sim(num_moves, cond_A, cond_B, num_samples)\n",
    "    output_knight_sim_stats(num_moves, num_samples)\n",
    "    print 'Probability S is divisible by {}, given that is divisible by {}: {}'.format(cond_A_num,\n",
    "                                                                                       cond_B_num,\n",
    "                                                                                       cond_prob)"
   ]
  },
  {
   "cell_type": "code",
   "execution_count": null,
   "metadata": {
    "collapsed": false
   },
   "outputs": [],
   "source": [
    "random.seed(0)\n",
    "# After T=10 moves, what is the expected value of the quantity S mod 10?\n",
    "# After T=10 moves, what is the standard deviation of the quantity S mod 10?\n",
    "output_mod_experiment(num_moves=10, mod=10)\n",
    "\n",
    "# After T=1024 moves, what is the expected value of the quantity S mod 1024?\n",
    "# After T=1024 moves, what is the standard deviation of the quantity S mod 1024?\n",
    "output_mod_experiment(num_moves=1024, mod=1024)\n",
    "\n",
    "# After T=10 moves, what is the probability that the sum S is divisible by 5, given that it is divisible by 7.\n",
    "output_cond_experiment(num_moves=10, cond_A_num=5, cond_B_num=7)\n",
    "\n",
    "# After T=1024 moves, what is the probability that the sum S is divisible by 23, given that it is divisible by 29.\n",
    "output_cond_experiment(num_moves=1024, cond_A_num=23, cond_B_num=29)"
   ]
  },
  {
   "cell_type": "raw",
   "metadata": {},
   "source": [
    "Knight Simulation (10000 samples)\n",
    "-----------------\n",
    "# moves = 10\n",
    "Expectation of S mod 10: 4.4167\n",
    "Standard deviation of S mod 10: 2.84613090177\n",
    "\n",
    "Knight Simulation (10000 samples)\n",
    "-----------------\n",
    "# moves = 1024\n",
    "Expectation of S mod 1024: 506.1048\n",
    "Standard deviation of S mod 1024: 69.7625387795\n",
    "\n",
    "Knight Simulation (10000 samples)\n",
    "-----------------\n",
    "# moves = 10\n",
    "Probability S is divisible by 5, given that is divisible by 7: 0.348709929633\n",
    "\n",
    "Knight Simulation (10000 samples)\n",
    "-----------------\n",
    "# moves = 1024\n",
    "Probability S is divisible by 23, given that is divisible by 29: 0.109422492401"
   ]
  },
  {
   "cell_type": "code",
   "execution_count": null,
   "metadata": {
    "collapsed": false
   },
   "outputs": [],
   "source": [
    "def average_heads(n):\n",
    "  if n == 1:\n",
    "    return 0.5\n",
    "  else:\n",
    "    return np.mean([average_heads(n-1) + 1./n, average_heads(n-1) - 1./n])"
   ]
  },
  {
   "cell_type": "code",
   "execution_count": null,
   "metadata": {
    "collapsed": false
   },
   "outputs": [],
   "source": []
  },
  {
   "cell_type": "code",
   "execution_count": null,
   "metadata": {
    "collapsed": true
   },
   "outputs": [],
   "source": []
  }
 ],
 "metadata": {
  "kernelspec": {
   "display_name": "Python 2",
   "language": "python",
   "name": "python2"
  },
  "language_info": {
   "codemirror_mode": {
    "name": "ipython",
    "version": 2
   },
   "file_extension": ".py",
   "mimetype": "text/x-python",
   "name": "python",
   "nbconvert_exporter": "python",
   "pygments_lexer": "ipython2",
   "version": "2.7.11"
  }
 },
 "nbformat": 4,
 "nbformat_minor": 0
}
